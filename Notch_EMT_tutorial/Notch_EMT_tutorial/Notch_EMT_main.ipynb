{
 "cells": [
  {
   "outputs": [],
   "cell_type": "code",
   "source": [
    "# ======== Loading Pkgs and functions =========\n",
    "@time include(\"functions/preload.jl\")\n",
    "include(\"functions/helper_fun.jl\")\n",
    "show_avail_functions()\n",
    "# =============================================\n",
    "\n",
    "# ======= Loading model ======\n",
    "@time include(\"functions/models.jl\")\n",
    "# =================================\n",
    "\n",
    "# ======= Single gene case =======\n",
    "run_path = \"functions/single_gene_case.jl\"\n",
    "include(run_path);\n",
    "run_and_check_new_vars(run_path)\n",
    "# ============================================================"
   ],
   "metadata": {},
   "execution_count": null
  },
  {
   "cell_type": "markdown",
   "source": [
    "---\n",
    "\n",
    "*This notebook was generated using [Literate.jl](https://github.com/fredrikekre/Literate.jl).*"
   ],
   "metadata": {}
  }
 ],
 "nbformat_minor": 3,
 "metadata": {
  "language_info": {
   "file_extension": ".jl",
   "mimetype": "application/julia",
   "name": "julia",
   "version": "1.9.0"
  },
  "kernelspec": {
   "name": "julia-1.9",
   "display_name": "Julia 1.9.0",
   "language": "julia"
  }
 },
 "nbformat": 4
}
